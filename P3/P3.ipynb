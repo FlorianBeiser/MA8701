{
 "cells": [
  {
   "cell_type": "markdown",
   "metadata": {
    "pycharm": {
     "name": "#%% md\n"
    }
   },
   "source": [
    "# MA8701 Prject II:\n",
    "\n",
    "https://github.com/metno/havvarsel-data-driven-pred/blob/main/dataset1.csv\n",
    "\n",
    "God morgen! As promised here is our data set 🥳 I wanted to include one more covariate (a oceanographic one) but I failed during the weekend - I will try it after the lecture again. BUT as soon as you start with data analysis please let know since I dont want to interrupt ongoing work with changing the data set afterwards!\n",
    "\n",
    "As discussed the data set consists of the following timeseries:\n",
    "- water_temp (the response)\n",
    "- measurements of 7 atmospheric values... the naming convention is \"station_id\"(where the measurement is done) + \"value\"(what got measured) + \"number\"(0=measurement in 2m height, 1=measurement in 10 height above ground)\n",
    "\n",
    "We have\n",
    "- water_temp in degC - measured at 7,10,14, 16 every day during swimming season\n",
    "\n",
    "- air_temperature in degC\n",
    "- wind_speed in m/s\n",
    "- cloud_area_fraction in 0,...,8 (0 no clouds, 8 fully cloudy)\n",
    "- mean(solar irradiance) in w/m2 - a quantity for the intensity of the sun\n",
    "- sum(duration of sunshine) in min - sunshine in the last hour\n",
    "- mean(realtive humidity) in %\n",
    "- mean(downwelling shortwave flux) in W/m2 - like irradiance but only for UV radiation (normally criterion for getting sun burned, but I thought that it could maybe get interesting)\n",
    "\n",
    "I hope thats something we can work with :) In case of questions just ask me since I was fighting a lot with those weather data bases and know somehow what is going on with weather measurements in Norway (not forecasts though haha)"
   ]
  },
  {
   "cell_type": "code",
   "execution_count": 105,
   "metadata": {
    "pycharm": {
     "name": "#%%\n"
    }
   },
   "outputs": [
    {
     "name": "stdout",
     "output_type": "stream",
     "text": [
      "2.5.0-rc1\n"
     ]
    }
   ],
   "source": [
    "import csv\n",
    "import matplotlib.pyplot as plt\n",
    "import numpy as np\n",
    "import pandas as pd\n",
    "import seaborn as sns\n",
    "\n",
    "# Make numpy printouts easier to read.\n",
    "np.set_printoptions(precision=3, suppress=True)\n",
    "\n",
    "import tensorflow as tf\n",
    "from tensorflow import keras\n",
    "from tensorflow.keras import layers\n",
    "from tensorflow.keras.layers.experimental import preprocessing\n",
    "\n",
    "print(tf.__version__)"
   ]
  },
  {
   "cell_type": "code",
   "execution_count": 106,
   "metadata": {
    "pycharm": {
     "name": "#%%\n"
    }
   },
   "outputs": [],
   "source": [
    "# Import data\n",
    "column_names = ['water_temp', 'air_temp1', 'air_temp2', 'air_temp3', 'air_temp4',\n",
    "                'wind_speed1', 'wind_speed2', 'wind_speed3', 'cloud1', 'cloud2',\n",
    "                'cloud3', 'cloud4', 'solar_mean', 'solar_sum', 'humidity1', 'humidity2',\n",
    "                'surface_downwelling']\n",
    "# raw_dataset = pd.read_csv('dataset1.csv', names = column_names, header = None, index_col = 'time')\n",
    "raw_dataset = pd.read_csv('dataset1.csv', header = None, names = column_names)\n",
    "raw_dataset = raw_dataset.iloc[1:, :]\n"
   ]
  },
  {
   "cell_type": "code",
   "execution_count": 107,
   "outputs": [],
   "source": [
    "\n",
    "shifted_water_temp = raw_dataset['water_temp']\n",
    "shifted_water_temp = shifted_water_temp.shift(1)\n",
    "new_dataset = raw_dataset\n",
    "new_dataset['new_water_temp'] = shifted_water_temp\n",
    "new_dataset = new_dataset.iloc[1:, :]\n",
    "# print(raw_dataset.iloc[:, 0]>'2020-05-15 07:00:00+00:00')\n"
   ],
   "metadata": {
    "collapsed": false,
    "pycharm": {
     "name": "#%%\n"
    }
   }
  },
  {
   "cell_type": "code",
   "source": [
    "dataset = new_dataset.copy()\n",
    "# print(dataset.isna().sum())\n",
    "del dataset[\"wind_speed3\"] # remove empty data\n",
    "del dataset[\"cloud2\"]\n",
    "dataset.tail()\n",
    "for i in range(len(dataset.columns)):\n",
    "    dataset.iloc[:,i] = pd.to_numeric(dataset.iloc[:,i], downcast = \"float\")\n",
    "dataset\n"
   ],
   "metadata": {
    "collapsed": false,
    "pycharm": {
     "name": "#%%\n"
    }
   },
   "execution_count": 108,
   "outputs": [
    {
     "data": {
      "text/plain": "                           water_temp  air_temp1  air_temp2  air_temp3  \\\n2016-05-24 10:00:00+00:00        12.0   9.800000        9.0  11.700000   \n2016-05-24 14:00:00+00:00        12.1  13.000000       12.7  14.500000   \n2016-05-24 16:00:00+00:00        12.3  12.400000       12.5  14.500000   \n2016-05-25 07:00:00+00:00        11.6  11.900000       10.0  13.100000   \n2016-05-25 11:00:00+00:00        12.6  15.400000       15.0  17.200001   \n...                               ...        ...        ...        ...   \n2020-09-14 08:00:00+00:00        15.6  16.100000       17.6  14.600000   \n2020-09-14 10:00:00+00:00        15.7  19.400000       20.1  17.500000   \n2020-09-14 13:00:00+00:00        16.0  19.700001       21.4  20.500000   \n2020-09-14 16:00:00+00:00        15.8  21.000000       20.4  21.400000   \n2020-09-15 07:00:00+00:00        15.6  13.100000       12.9  15.000000   \n\n                           air_temp4  wind_speed1  wind_speed2  cloud1  \\\n2016-05-24 10:00:00+00:00  11.100000          3.6          1.4     8.0   \n2016-05-24 14:00:00+00:00  14.200000          4.2          1.4     7.0   \n2016-05-24 16:00:00+00:00  13.900000          5.0          1.5     7.0   \n2016-05-25 07:00:00+00:00  11.600000          3.4          1.8     1.0   \n2016-05-25 11:00:00+00:00  16.900000          3.9          1.4     1.0   \n...                              ...          ...          ...     ...   \n2020-09-14 08:00:00+00:00  16.600000          2.3          0.5     5.0   \n2020-09-14 10:00:00+00:00  19.500000          3.2          2.2     6.0   \n2020-09-14 13:00:00+00:00  21.299999          3.7          2.9     8.0   \n2020-09-14 16:00:00+00:00  20.900000          1.5          1.1     8.0   \n2020-09-15 07:00:00+00:00  13.000000          0.0          0.4     8.0   \n\n                           cloud3  cloud4  solar_mean  solar_sum  humidity1  \\\n2016-05-24 10:00:00+00:00     8.0     5.0       0.737        0.0       83.0   \n2016-05-24 14:00:00+00:00     8.0     5.0       0.737        0.0       66.0   \n2016-05-24 16:00:00+00:00     8.0     3.0       0.737        1.0       64.0   \n2016-05-25 07:00:00+00:00     8.0     4.0       0.737        0.0       59.0   \n2016-05-25 11:00:00+00:00     8.0     1.0       0.737       60.0       48.0   \n...                           ...     ...         ...        ...        ...   \n2020-09-14 08:00:00+00:00     0.0     2.0       0.148       44.0       90.0   \n2020-09-14 10:00:00+00:00     3.0     5.0       0.630        6.0       77.0   \n2020-09-14 13:00:00+00:00     1.0     5.0       0.777       60.0       69.0   \n2020-09-14 16:00:00+00:00     0.0     5.0       0.535       12.0       72.0   \n2020-09-15 07:00:00+00:00     8.0     4.0       0.501        0.0       97.0   \n\n                           humidity2  surface_downwelling  new_water_temp  \n2016-05-24 10:00:00+00:00       76.0           200.899994            11.7  \n2016-05-24 14:00:00+00:00       78.0           330.000000            12.0  \n2016-05-24 16:00:00+00:00       69.0           281.600006            12.1  \n2016-05-25 07:00:00+00:00       55.0           392.799988            12.3  \n2016-05-25 11:00:00+00:00       48.0           801.000000            11.6  \n...                              ...                  ...             ...  \n2020-09-14 08:00:00+00:00       69.0           249.899994            15.8  \n2020-09-14 10:00:00+00:00       74.0           245.500000            15.6  \n2020-09-14 13:00:00+00:00       77.0           489.000000            15.7  \n2020-09-14 16:00:00+00:00       75.0           169.800003            16.0  \n2020-09-15 07:00:00+00:00       96.0            69.400002            15.8  \n\n[2326 rows x 16 columns]",
      "text/html": "<div>\n<style scoped>\n    .dataframe tbody tr th:only-of-type {\n        vertical-align: middle;\n    }\n\n    .dataframe tbody tr th {\n        vertical-align: top;\n    }\n\n    .dataframe thead th {\n        text-align: right;\n    }\n</style>\n<table border=\"1\" class=\"dataframe\">\n  <thead>\n    <tr style=\"text-align: right;\">\n      <th></th>\n      <th>water_temp</th>\n      <th>air_temp1</th>\n      <th>air_temp2</th>\n      <th>air_temp3</th>\n      <th>air_temp4</th>\n      <th>wind_speed1</th>\n      <th>wind_speed2</th>\n      <th>cloud1</th>\n      <th>cloud3</th>\n      <th>cloud4</th>\n      <th>solar_mean</th>\n      <th>solar_sum</th>\n      <th>humidity1</th>\n      <th>humidity2</th>\n      <th>surface_downwelling</th>\n      <th>new_water_temp</th>\n    </tr>\n  </thead>\n  <tbody>\n    <tr>\n      <th>2016-05-24 10:00:00+00:00</th>\n      <td>12.0</td>\n      <td>9.800000</td>\n      <td>9.0</td>\n      <td>11.700000</td>\n      <td>11.100000</td>\n      <td>3.6</td>\n      <td>1.4</td>\n      <td>8.0</td>\n      <td>8.0</td>\n      <td>5.0</td>\n      <td>0.737</td>\n      <td>0.0</td>\n      <td>83.0</td>\n      <td>76.0</td>\n      <td>200.899994</td>\n      <td>11.7</td>\n    </tr>\n    <tr>\n      <th>2016-05-24 14:00:00+00:00</th>\n      <td>12.1</td>\n      <td>13.000000</td>\n      <td>12.7</td>\n      <td>14.500000</td>\n      <td>14.200000</td>\n      <td>4.2</td>\n      <td>1.4</td>\n      <td>7.0</td>\n      <td>8.0</td>\n      <td>5.0</td>\n      <td>0.737</td>\n      <td>0.0</td>\n      <td>66.0</td>\n      <td>78.0</td>\n      <td>330.000000</td>\n      <td>12.0</td>\n    </tr>\n    <tr>\n      <th>2016-05-24 16:00:00+00:00</th>\n      <td>12.3</td>\n      <td>12.400000</td>\n      <td>12.5</td>\n      <td>14.500000</td>\n      <td>13.900000</td>\n      <td>5.0</td>\n      <td>1.5</td>\n      <td>7.0</td>\n      <td>8.0</td>\n      <td>3.0</td>\n      <td>0.737</td>\n      <td>1.0</td>\n      <td>64.0</td>\n      <td>69.0</td>\n      <td>281.600006</td>\n      <td>12.1</td>\n    </tr>\n    <tr>\n      <th>2016-05-25 07:00:00+00:00</th>\n      <td>11.6</td>\n      <td>11.900000</td>\n      <td>10.0</td>\n      <td>13.100000</td>\n      <td>11.600000</td>\n      <td>3.4</td>\n      <td>1.8</td>\n      <td>1.0</td>\n      <td>8.0</td>\n      <td>4.0</td>\n      <td>0.737</td>\n      <td>0.0</td>\n      <td>59.0</td>\n      <td>55.0</td>\n      <td>392.799988</td>\n      <td>12.3</td>\n    </tr>\n    <tr>\n      <th>2016-05-25 11:00:00+00:00</th>\n      <td>12.6</td>\n      <td>15.400000</td>\n      <td>15.0</td>\n      <td>17.200001</td>\n      <td>16.900000</td>\n      <td>3.9</td>\n      <td>1.4</td>\n      <td>1.0</td>\n      <td>8.0</td>\n      <td>1.0</td>\n      <td>0.737</td>\n      <td>60.0</td>\n      <td>48.0</td>\n      <td>48.0</td>\n      <td>801.000000</td>\n      <td>11.6</td>\n    </tr>\n    <tr>\n      <th>...</th>\n      <td>...</td>\n      <td>...</td>\n      <td>...</td>\n      <td>...</td>\n      <td>...</td>\n      <td>...</td>\n      <td>...</td>\n      <td>...</td>\n      <td>...</td>\n      <td>...</td>\n      <td>...</td>\n      <td>...</td>\n      <td>...</td>\n      <td>...</td>\n      <td>...</td>\n      <td>...</td>\n    </tr>\n    <tr>\n      <th>2020-09-14 08:00:00+00:00</th>\n      <td>15.6</td>\n      <td>16.100000</td>\n      <td>17.6</td>\n      <td>14.600000</td>\n      <td>16.600000</td>\n      <td>2.3</td>\n      <td>0.5</td>\n      <td>5.0</td>\n      <td>0.0</td>\n      <td>2.0</td>\n      <td>0.148</td>\n      <td>44.0</td>\n      <td>90.0</td>\n      <td>69.0</td>\n      <td>249.899994</td>\n      <td>15.8</td>\n    </tr>\n    <tr>\n      <th>2020-09-14 10:00:00+00:00</th>\n      <td>15.7</td>\n      <td>19.400000</td>\n      <td>20.1</td>\n      <td>17.500000</td>\n      <td>19.500000</td>\n      <td>3.2</td>\n      <td>2.2</td>\n      <td>6.0</td>\n      <td>3.0</td>\n      <td>5.0</td>\n      <td>0.630</td>\n      <td>6.0</td>\n      <td>77.0</td>\n      <td>74.0</td>\n      <td>245.500000</td>\n      <td>15.6</td>\n    </tr>\n    <tr>\n      <th>2020-09-14 13:00:00+00:00</th>\n      <td>16.0</td>\n      <td>19.700001</td>\n      <td>21.4</td>\n      <td>20.500000</td>\n      <td>21.299999</td>\n      <td>3.7</td>\n      <td>2.9</td>\n      <td>8.0</td>\n      <td>1.0</td>\n      <td>5.0</td>\n      <td>0.777</td>\n      <td>60.0</td>\n      <td>69.0</td>\n      <td>77.0</td>\n      <td>489.000000</td>\n      <td>15.7</td>\n    </tr>\n    <tr>\n      <th>2020-09-14 16:00:00+00:00</th>\n      <td>15.8</td>\n      <td>21.000000</td>\n      <td>20.4</td>\n      <td>21.400000</td>\n      <td>20.900000</td>\n      <td>1.5</td>\n      <td>1.1</td>\n      <td>8.0</td>\n      <td>0.0</td>\n      <td>5.0</td>\n      <td>0.535</td>\n      <td>12.0</td>\n      <td>72.0</td>\n      <td>75.0</td>\n      <td>169.800003</td>\n      <td>16.0</td>\n    </tr>\n    <tr>\n      <th>2020-09-15 07:00:00+00:00</th>\n      <td>15.6</td>\n      <td>13.100000</td>\n      <td>12.9</td>\n      <td>15.000000</td>\n      <td>13.000000</td>\n      <td>0.0</td>\n      <td>0.4</td>\n      <td>8.0</td>\n      <td>8.0</td>\n      <td>4.0</td>\n      <td>0.501</td>\n      <td>0.0</td>\n      <td>97.0</td>\n      <td>96.0</td>\n      <td>69.400002</td>\n      <td>15.8</td>\n    </tr>\n  </tbody>\n</table>\n<p>2326 rows × 16 columns</p>\n</div>"
     },
     "execution_count": 108,
     "metadata": {},
     "output_type": "execute_result"
    }
   ]
  },
  {
   "cell_type": "code",
   "execution_count": 109,
   "outputs": [
    {
     "name": "stdout",
     "output_type": "stream",
     "text": [
      "                           water_temp  air_temp1  air_temp2  air_temp3  \\\n",
      "2019-10-01 07:00:00+00:00        13.2        7.1        6.9        9.0   \n",
      "2019-10-01 10:00:00+00:00        13.8       11.5       10.2       12.6   \n",
      "2019-10-01 13:00:00+00:00        13.5       13.4       12.0       14.5   \n",
      "2019-10-01 16:00:00+00:00        13.6       10.9        9.9       13.9   \n",
      "2019-10-02 07:00:00+00:00        12.2        7.0        5.8        9.6   \n",
      "\n",
      "                           air_temp4  wind_speed1  wind_speed2  cloud1  \\\n",
      "2019-10-01 07:00:00+00:00        7.5          1.6          0.5     0.0   \n",
      "2019-10-01 10:00:00+00:00       13.5          2.1          0.8     4.0   \n",
      "2019-10-01 13:00:00+00:00       14.7          1.5          1.0     1.0   \n",
      "2019-10-01 16:00:00+00:00       10.9          0.7          0.4     7.0   \n",
      "2019-10-02 07:00:00+00:00        7.1          4.7          1.0     8.0   \n",
      "\n",
      "                           cloud3  cloud4  solar_mean  solar_sum  humidity1  \\\n",
      "2019-10-01 07:00:00+00:00     0.0     0.0       0.000       57.0       69.0   \n",
      "2019-10-01 10:00:00+00:00     0.0     1.0      77.250       60.0       43.0   \n",
      "2019-10-01 13:00:00+00:00     0.0     1.0       0.000        7.0       38.0   \n",
      "2019-10-01 16:00:00+00:00     1.0     1.0      21.362        0.0       43.0   \n",
      "2019-10-02 07:00:00+00:00     8.0     8.0       1.060        0.0       94.0   \n",
      "\n",
      "                           humidity2  surface_downwelling  new_water_temp  \n",
      "2019-10-01 07:00:00+00:00       83.0            56.500000            12.8  \n",
      "2019-10-01 10:00:00+00:00       36.0           380.000000            13.2  \n",
      "2019-10-01 13:00:00+00:00       32.0           412.799988            13.8  \n",
      "2019-10-01 16:00:00+00:00       42.0           110.800003            13.5  \n",
      "2019-10-02 07:00:00+00:00       82.0            20.000000            13.6  \n",
      "                           water_temp  air_temp1  air_temp2  air_temp3  \\\n",
      "2020-05-15 07:00:00+00:00         8.5        8.4        8.7        9.2   \n",
      "2020-05-15 10:00:00+00:00         9.7       10.4        9.6       11.6   \n",
      "2020-05-15 13:00:00+00:00         9.9       11.9       10.8       11.2   \n",
      "2020-05-15 16:00:00+00:00        10.2       10.5       10.1       12.3   \n",
      "2020-05-16 07:00:00+00:00         9.5        5.5        5.4        7.2   \n",
      "\n",
      "                           air_temp4  wind_speed1  wind_speed2  cloud1  \\\n",
      "2020-05-15 07:00:00+00:00        9.3          3.6          0.5     8.0   \n",
      "2020-05-15 10:00:00+00:00       12.2          2.0          1.3     8.0   \n",
      "2020-05-15 13:00:00+00:00       11.5          1.4          1.5     8.0   \n",
      "2020-05-15 16:00:00+00:00       11.6          3.1          2.1     7.0   \n",
      "2020-05-16 07:00:00+00:00        6.5          3.3          1.3     7.0   \n",
      "\n",
      "                           cloud3  cloud4  solar_mean  solar_sum  humidity1  \\\n",
      "2020-05-15 07:00:00+00:00     1.0     5.0    2.918000       60.0       49.0   \n",
      "2020-05-15 10:00:00+00:00     6.0     6.0   69.968002        0.0       34.0   \n",
      "2020-05-15 13:00:00+00:00     8.0     6.0  874.395996       39.0       37.0   \n",
      "2020-05-15 16:00:00+00:00     2.0     2.0  194.888000        8.0       30.0   \n",
      "2020-05-16 07:00:00+00:00     0.0     7.0    4.436000        0.0       42.0   \n",
      "\n",
      "                           humidity2  surface_downwelling  new_water_temp  \n",
      "2020-05-15 07:00:00+00:00       42.0           264.100006            12.2  \n",
      "2020-05-15 10:00:00+00:00       38.0           326.799988             8.5  \n",
      "2020-05-15 13:00:00+00:00       26.0           456.700012             9.7  \n",
      "2020-05-15 16:00:00+00:00       25.0           356.500000             9.9  \n",
      "2020-05-16 07:00:00+00:00       35.0           188.600006            10.2  \n"
     ]
    }
   ],
   "source": [
    "# Split the data set\n",
    "train_dataset = dataset.iloc[:1856, :]\n",
    "test_dataset = dataset.drop(train_dataset.index)\n",
    "print(train_dataset.tail())\n",
    "print(test_dataset.head())"
   ],
   "metadata": {
    "collapsed": false,
    "pycharm": {
     "name": "#%%\n"
    }
   }
  },
  {
   "cell_type": "code",
   "execution_count": null,
   "metadata": {
    "pycharm": {
     "name": "#%%\n",
     "is_executing": true
    }
   },
   "outputs": [],
   "source": [
    "sns.pairplot(train_dataset, vars = train_dataset.columns[:], diag_kind='kde')\n",
    "plt.show()"
   ]
  },
  {
   "cell_type": "code",
   "execution_count": null,
   "metadata": {
    "pycharm": {
     "name": "#%%\n",
     "is_executing": true
    }
   },
   "outputs": [],
   "source": [
    "train_features = train_dataset.copy()\n",
    "test_features = test_dataset.copy()\n",
    "\n",
    "train_labels = train_features.pop('new_water_temp')\n",
    "test_labels = test_features.pop('new_water_temp')\n",
    "\n",
    "train_dataset.describe().transpose()"
   ]
  },
  {
   "cell_type": "code",
   "execution_count": null,
   "metadata": {
    "pycharm": {
     "name": "#%%\n",
     "is_executing": true
    }
   },
   "outputs": [],
   "source": [
    "normalizer = preprocessing.Normalization()\n",
    "normalizer.adapt(np.array(train_features))"
   ]
  },
  {
   "cell_type": "code",
   "execution_count": null,
   "outputs": [],
   "source": [
    "def plot_loss(history):\n",
    "  plt.plot(history.history['loss'], label='loss')\n",
    "  plt.plot(history.history['val_loss'], label='val_loss')\n",
    "  plt.ylim([0, 10])\n",
    "  plt.xlabel('Epoch')\n",
    "  plt.ylabel('Error [water_temp]')\n",
    "  plt.legend()\n",
    "  plt.grid(True)"
   ],
   "metadata": {
    "collapsed": false,
    "pycharm": {
     "name": "#%%\n",
     "is_executing": true
    }
   }
  },
  {
   "cell_type": "code",
   "execution_count": null,
   "metadata": {
    "pycharm": {
     "name": "#%%\n",
     "is_executing": true
    }
   },
   "outputs": [],
   "source": [
    "def plot_air_temp1(x, y):\n",
    "  plt.scatter(train_features['air_temp1'], train_labels, label='Data')\n",
    "  plt.plot(x, y, color='k', label='Predictions')\n",
    "  plt.xlabel('Air_temp1')\n",
    "  plt.ylabel('water_temp')\n",
    "  plt.legend()"
   ]
  },
  {
   "cell_type": "code",
   "execution_count": null,
   "outputs": [],
   "source": [
    "linear_model = tf.keras.Sequential([\n",
    "    normalizer,\n",
    "    layers.Dense(units=1)\n",
    "])\n",
    "\n",
    "linear_model.predict(train_features)\n",
    "linear_model.compile(\n",
    "    optimizer=tf.optimizers.Adam(learning_rate=0.1),\n",
    "    loss='mean_absolute_error')\n",
    "\n",
    "history = linear_model.fit(\n",
    "    train_features, train_labels,\n",
    "    epochs=100,\n",
    "    # suppress logging\n",
    "    verbose=0,\n",
    "    # Calculate validation results on 20% of the training data\n",
    "    validation_split = 0.2)\n",
    "\n",
    "plot_loss(history)\n"
   ],
   "metadata": {
    "collapsed": false,
    "pycharm": {
     "name": "#%% Single layer neural network\n",
     "is_executing": true
    }
   }
  },
  {
   "cell_type": "code",
   "execution_count": null,
   "metadata": {
    "pycharm": {
     "name": "#%%\n",
     "is_executing": true
    }
   },
   "outputs": [],
   "source": [
    "test_results = linear_model.evaluate(\n",
    "    test_features, test_labels, verbose=0)\n",
    "print(test_results)\n",
    "test_predictions = linear_model.predict(test_features).flatten()\n",
    "\n",
    "# plot the estimation\n",
    "x = np.arange(len(test_labels))\n",
    "plt.scatter(x, test_labels)\n",
    "plt.scatter(x, test_predictions)\n",
    "plt.show()"
   ]
  },
  {
   "cell_type": "markdown",
   "metadata": {
    "pycharm": {
     "name": "#%% md\n"
    }
   },
   "source": [
    "# Conclusions from Deep learning part\n",
    "\n",
    "Air temperature measurements seem having high correlations, so do the humidity. By using single layer and multiple layers neural\n",
    "network, it predicts the water temperature with relatively low error.\n",
    "\n"
   ]
  }
 ],
 "metadata": {
  "kernelspec": {
   "display_name": "Python 3",
   "language": "python",
   "name": "python3"
  },
  "language_info": {
   "codemirror_mode": {
    "name": "ipython",
    "version": 3
   },
   "file_extension": ".py",
   "mimetype": "text/x-python",
   "name": "python",
   "nbconvert_exporter": "python",
   "pygments_lexer": "ipython3",
   "version": "3.9.4"
  }
 },
 "nbformat": 4,
 "nbformat_minor": 1
}