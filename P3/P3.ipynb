{
 "cells": [
  {
   "cell_type": "markdown",
   "source": [
    "# MA8701 Prject II:\n",
    "\n",
    "https://github.com/metno/havvarsel-data-driven-pred/blob/main/dataset1.csv\n",
    "\n",
    "God morgen! As promised here is our data set 🥳 I wanted to include one more covariate (a oceanographic one) but I failed during the weekend - I will try it after the lecture again. BUT as soon as you start with data analysis please let know since I dont want to interrupt ongoing work with changing the data set afterwards!\n",
    "\n",
    "As discussed the data set consists of the following timeseries:\n",
    "- water_temp (the response)\n",
    "- measurements of 7 atmospheric values... the naming convention is \"station_id\"(where the measurement is done) + \"value\"(what got measured) + \"number\"(0=measurement in 2m height, 1=measurement in 10 height above ground)\n",
    "\n",
    "We have\n",
    "- water_temp in degC - measured at 7,10,14, 16 every day during swimming season\n",
    "\n",
    "- air_temperature in degC\n",
    "- wind_speed in m/s\n",
    "- cloud_area_fraction in 0,...,8 (0 no clouds, 8 fully cloudy)\n",
    "- mean(solar irradiance) in w/m2 - a quantity for the intensity of the sun\n",
    "- sum(duration of sunshine) in min - sunshine in the last hour\n",
    "- mean(realtive humidity) in %\n",
    "- mean(downwelling shortwave flux) in W/m2 - like irradiance but only for UV radiation (normally criterion for getting sun burned, but I thought that it could maybe get interesting)\n",
    "\n",
    "I hope thats something we can work with :) In case of questions just ask me since I was fighting a lot with those weather data bases and know somehow what is going on with weather measurements in Norway (not forecasts though haha)"
   ],
   "metadata": {
    "collapsed": false,
    "pycharm": {
     "name": "#%% md\n"
    }
   }
  },
  {
   "cell_type": "code",
   "execution_count": 5,
   "outputs": [
    {
     "name": "stdout",
     "output_type": "stream",
     "text": [
      "hello world\n"
     ]
    }
   ],
   "source": [
    "import csv\n",
    "\n",
    "\n",
    "print(\"hello world\")\n"
   ],
   "metadata": {
    "collapsed": false,
    "pycharm": {
     "name": "#%%\n"
    }
   }
  },
  {
   "cell_type": "code",
   "execution_count": 6,
   "outputs": [
    {
     "name": "stdout",
     "output_type": "stream",
     "text": [
      "INFO:tensorflow:Enabling eager execution\n",
      "INFO:tensorflow:Enabling v2 tensorshape\n",
      "INFO:tensorflow:Enabling resource variables\n",
      "INFO:tensorflow:Enabling tensor equality\n",
      "INFO:tensorflow:Enabling control flow v2\n",
      "2.5.0-rc1\n"
     ]
    }
   ],
   "source": [
    "import matplotlib.pyplot as plt\n",
    "import numpy as np\n",
    "import pandas as pd\n",
    "import seaborn as sns\n",
    "\n",
    "# Make numpy printouts easier to read.\n",
    "np.set_printoptions(precision=3, suppress=True)\n",
    "\n",
    "import tensorflow as tf\n",
    "\n",
    "from tensorflow import keras\n",
    "from tensorflow.keras import layers\n",
    "from tensorflow.keras.layers.experimental import preprocessing\n",
    "\n",
    "print(tf.__version__)"
   ],
   "metadata": {
    "collapsed": false,
    "pycharm": {
     "name": "#%%\n"
    }
   }
  },
  {
   "cell_type": "code",
   "execution_count": 18,
   "outputs": [
    {
     "data": {
      "text/plain": "                          water_temp air_temp1 air_temp2 air_temp3 air_temp4  \\\n2020-09-14 08:00:00+00:00       15.6      16.1      17.6      14.6      16.6   \n2020-09-14 10:00:00+00:00       15.7      19.4      20.1      17.5      19.5   \n2020-09-14 13:00:00+00:00       16.0      19.7      21.4      20.5      21.3   \n2020-09-14 16:00:00+00:00       15.8      21.0      20.4      21.4      20.9   \n2020-09-15 07:00:00+00:00       15.6      13.1      12.9      15.0      13.0   \n\n                          wind_speed1 wind_speed2 cloud1 cloud3 cloud4  \\\n2020-09-14 08:00:00+00:00         2.3         0.5      5      0      2   \n2020-09-14 10:00:00+00:00         3.2         2.2      6      3      5   \n2020-09-14 13:00:00+00:00         3.7         2.9      8      1      5   \n2020-09-14 16:00:00+00:00         1.5         1.1      8      0      5   \n2020-09-15 07:00:00+00:00         0.0         0.4      8      8      4   \n\n                          solar_mean solar_sum humidity1 humidity2  \\\n2020-09-14 08:00:00+00:00      0.148      44.0        90        69   \n2020-09-14 10:00:00+00:00       0.63       6.0        77        74   \n2020-09-14 13:00:00+00:00      0.777      60.0        69        77   \n2020-09-14 16:00:00+00:00      0.535      12.0        72        75   \n2020-09-15 07:00:00+00:00      0.501       0.0        97        96   \n\n                          surface_downwelling  \n2020-09-14 08:00:00+00:00               249.9  \n2020-09-14 10:00:00+00:00               245.5  \n2020-09-14 13:00:00+00:00               489.0  \n2020-09-14 16:00:00+00:00               169.8  \n2020-09-15 07:00:00+00:00                69.4  ",
      "text/html": "<div>\n<style scoped>\n    .dataframe tbody tr th:only-of-type {\n        vertical-align: middle;\n    }\n\n    .dataframe tbody tr th {\n        vertical-align: top;\n    }\n\n    .dataframe thead th {\n        text-align: right;\n    }\n</style>\n<table border=\"1\" class=\"dataframe\">\n  <thead>\n    <tr style=\"text-align: right;\">\n      <th></th>\n      <th>water_temp</th>\n      <th>air_temp1</th>\n      <th>air_temp2</th>\n      <th>air_temp3</th>\n      <th>air_temp4</th>\n      <th>wind_speed1</th>\n      <th>wind_speed2</th>\n      <th>cloud1</th>\n      <th>cloud3</th>\n      <th>cloud4</th>\n      <th>solar_mean</th>\n      <th>solar_sum</th>\n      <th>humidity1</th>\n      <th>humidity2</th>\n      <th>surface_downwelling</th>\n    </tr>\n  </thead>\n  <tbody>\n    <tr>\n      <th>2020-09-14 08:00:00+00:00</th>\n      <td>15.6</td>\n      <td>16.1</td>\n      <td>17.6</td>\n      <td>14.6</td>\n      <td>16.6</td>\n      <td>2.3</td>\n      <td>0.5</td>\n      <td>5</td>\n      <td>0</td>\n      <td>2</td>\n      <td>0.148</td>\n      <td>44.0</td>\n      <td>90</td>\n      <td>69</td>\n      <td>249.9</td>\n    </tr>\n    <tr>\n      <th>2020-09-14 10:00:00+00:00</th>\n      <td>15.7</td>\n      <td>19.4</td>\n      <td>20.1</td>\n      <td>17.5</td>\n      <td>19.5</td>\n      <td>3.2</td>\n      <td>2.2</td>\n      <td>6</td>\n      <td>3</td>\n      <td>5</td>\n      <td>0.63</td>\n      <td>6.0</td>\n      <td>77</td>\n      <td>74</td>\n      <td>245.5</td>\n    </tr>\n    <tr>\n      <th>2020-09-14 13:00:00+00:00</th>\n      <td>16.0</td>\n      <td>19.7</td>\n      <td>21.4</td>\n      <td>20.5</td>\n      <td>21.3</td>\n      <td>3.7</td>\n      <td>2.9</td>\n      <td>8</td>\n      <td>1</td>\n      <td>5</td>\n      <td>0.777</td>\n      <td>60.0</td>\n      <td>69</td>\n      <td>77</td>\n      <td>489.0</td>\n    </tr>\n    <tr>\n      <th>2020-09-14 16:00:00+00:00</th>\n      <td>15.8</td>\n      <td>21.0</td>\n      <td>20.4</td>\n      <td>21.4</td>\n      <td>20.9</td>\n      <td>1.5</td>\n      <td>1.1</td>\n      <td>8</td>\n      <td>0</td>\n      <td>5</td>\n      <td>0.535</td>\n      <td>12.0</td>\n      <td>72</td>\n      <td>75</td>\n      <td>169.8</td>\n    </tr>\n    <tr>\n      <th>2020-09-15 07:00:00+00:00</th>\n      <td>15.6</td>\n      <td>13.1</td>\n      <td>12.9</td>\n      <td>15.0</td>\n      <td>13.0</td>\n      <td>0.0</td>\n      <td>0.4</td>\n      <td>8</td>\n      <td>8</td>\n      <td>4</td>\n      <td>0.501</td>\n      <td>0.0</td>\n      <td>97</td>\n      <td>96</td>\n      <td>69.4</td>\n    </tr>\n  </tbody>\n</table>\n</div>"
     },
     "execution_count": 18,
     "metadata": {},
     "output_type": "execute_result"
    }
   ],
   "source": [
    "# Import data\n",
    "column_names = ['water_temp', 'air_temp1', 'air_temp2', 'air_temp3', 'air_temp4',\n",
    "                'wind_speed1', 'wind_speed2', 'wind_speed3', 'cloud1', 'cloud2',\n",
    "                'cloud3', 'cloud4', 'solar_mean', 'solar_sum', 'humidity1', 'humidity2',\n",
    "                'surface_downwelling']\n",
    "\n",
    "raw_dataset = pd.read_csv('dataset1.csv', names = column_names)\n",
    "raw_dataset = raw_dataset.iloc[1:]\n",
    "dataset = raw_dataset.copy()\n",
    "dataset.tail()\n",
    "\n",
    "dataset.isna().sum()\n",
    "dataset = dataset.dropna()\n",
    "\n",
    "del dataset[\"wind_speed3\"]\n",
    "del dataset[\"cloud2\"]\n",
    "\n",
    "dataset.tail()"
   ],
   "metadata": {
    "collapsed": false,
    "pycharm": {
     "name": "#%%\n"
    }
   }
  },
  {
   "cell_type": "code",
   "execution_count": 21,
   "outputs": [],
   "source": [
    "# Split the data set\n",
    "train_dataset = dataset.sample(frac=0.8, random_state=0)\n",
    "test_dataset = dataset.drop(train_dataset.index)"
   ],
   "metadata": {
    "collapsed": false,
    "pycharm": {
     "name": "#%%\n"
    }
   }
  },
  {
   "cell_type": "code",
   "execution_count": null,
   "outputs": [],
   "source": [
    "sns.pairplot(train_dataset[['water_temp', 'air_temp4']], diag_kind='kde')\n",
    "\n",
    "\n",
    "\n",
    "\n",
    "\n",
    "\n",
    "\n"
   ],
   "metadata": {
    "collapsed": false,
    "pycharm": {
     "name": "#%%\n"
    }
   }
  }
 ],
 "metadata": {
  "kernelspec": {
   "display_name": "Python 3",
   "language": "python",
   "name": "python3"
  },
  "language_info": {
   "codemirror_mode": {
    "name": "ipython",
    "version": 2
   },
   "file_extension": ".py",
   "mimetype": "text/x-python",
   "name": "python",
   "nbconvert_exporter": "python",
   "pygments_lexer": "ipython2",
   "version": "2.7.6"
  }
 },
 "nbformat": 4,
 "nbformat_minor": 0
}